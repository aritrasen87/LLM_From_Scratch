{
  "nbformat": 4,
  "nbformat_minor": 0,
  "metadata": {
    "colab": {
      "provenance": [],
      "authorship_tag": "ABX9TyO+tCg5gQeAM+OkrNF2v21h",
      "include_colab_link": true
    },
    "kernelspec": {
      "name": "python3",
      "display_name": "Python 3"
    },
    "language_info": {
      "name": "python"
    }
  },
  "cells": [
    {
      "cell_type": "markdown",
      "metadata": {
        "id": "view-in-github",
        "colab_type": "text"
      },
      "source": [
        "<a href=\"https://colab.research.google.com/github/aritrasen87/LLM_From_Scratch/blob/main/1_LLM_From_Scratch_PytorchEssentials.ipynb\" target=\"_parent\"><img src=\"https://colab.research.google.com/assets/colab-badge.svg\" alt=\"Open In Colab\"/></a>"
      ]
    },
    {
      "cell_type": "markdown",
      "source": [
        "Pytorch Essentials for Buildilng LLM from Scratch - https://www.youtube.com/@AritraSen\n",
        "\n",
        "Deep learning with Pytorch: https://youtube.com/playlist?list=PLOrU905yPYXJsJSHJsiE779KfcrRCgz4v&si=kMm_xrDwfKF9mVCk"
      ],
      "metadata": {
        "id": "iM5-IrX4vVPM"
      }
    },
    {
      "cell_type": "code",
      "execution_count": 1,
      "metadata": {
        "id": "T5vEp0lMuxLH"
      },
      "outputs": [],
      "source": [
        "import torch\n",
        "import torch.nn as nn\n",
        "from torch.nn import functional as F"
      ]
    },
    {
      "cell_type": "code",
      "source": [
        "device = 'cuda' if torch.cuda.is_available() else 'cpu'\n",
        "print(device)"
      ],
      "metadata": {
        "colab": {
          "base_uri": "https://localhost:8080/"
        },
        "id": "bsTkSW2uvgOe",
        "outputId": "f479cb33-9fe2-4c7b-d408-fd991080e84e"
      },
      "execution_count": 2,
      "outputs": [
        {
          "output_type": "stream",
          "name": "stdout",
          "text": [
            "cpu\n"
          ]
        }
      ]
    },
    {
      "cell_type": "code",
      "source": [
        "tensor1 = torch.randn(4, 5)\n",
        "tensor2 = torch.randn(5, 4)"
      ],
      "metadata": {
        "id": "-3iNlBl7vhSj"
      },
      "execution_count": 3,
      "outputs": []
    },
    {
      "cell_type": "code",
      "source": [
        "tensor1.shape , tensor2.shape"
      ],
      "metadata": {
        "colab": {
          "base_uri": "https://localhost:8080/"
        },
        "id": "GkAAshU_viec",
        "outputId": "6366d6ea-7bb0-47ee-fb8a-ddbedd84e44c"
      },
      "execution_count": 4,
      "outputs": [
        {
          "output_type": "execute_result",
          "data": {
            "text/plain": [
              "(torch.Size([4, 5]), torch.Size([5, 4]))"
            ]
          },
          "metadata": {},
          "execution_count": 4
        }
      ]
    },
    {
      "cell_type": "code",
      "source": [
        "print(tensor1)"
      ],
      "metadata": {
        "colab": {
          "base_uri": "https://localhost:8080/"
        },
        "id": "_BM32OEevj97",
        "outputId": "ffcf33c5-5532-48a9-d4aa-4d82f3ea02d8"
      },
      "execution_count": 5,
      "outputs": [
        {
          "output_type": "stream",
          "name": "stdout",
          "text": [
            "tensor([[-0.3210,  0.1555, -1.9451, -0.5879,  1.4301],\n",
            "        [ 0.9635, -0.1619,  1.2123,  1.4513,  0.5078],\n",
            "        [-0.4957,  1.6155,  0.7247, -0.4581, -0.4611],\n",
            "        [ 0.0725,  0.6554, -1.5434,  0.3611,  0.2142]])\n"
          ]
        }
      ]
    },
    {
      "cell_type": "code",
      "source": [
        "print(tensor2)"
      ],
      "metadata": {
        "colab": {
          "base_uri": "https://localhost:8080/"
        },
        "id": "PYQGgzTZvlrZ",
        "outputId": "8b5cadcb-c105-4ae9-9146-ada050c6770a"
      },
      "execution_count": 6,
      "outputs": [
        {
          "output_type": "stream",
          "name": "stdout",
          "text": [
            "tensor([[ 0.0487, -0.2556,  0.6114, -0.9860],\n",
            "        [ 2.0516,  0.8587,  0.1332, -1.0107],\n",
            "        [ 0.4745, -1.7851,  1.1327,  0.5256],\n",
            "        [ 0.1034, -1.3270, -0.3440, -0.1356],\n",
            "        [ 1.7968,  1.1401,  0.8945,  0.8371]])\n"
          ]
        }
      ]
    },
    {
      "cell_type": "markdown",
      "source": [
        "### Dot Product"
      ],
      "metadata": {
        "id": "mkcJAvCbvpHw"
      }
    },
    {
      "cell_type": "code",
      "source": [
        "tensor3 = tensor1 @ tensor2\n",
        "print(tensor3)"
      ],
      "metadata": {
        "colab": {
          "base_uri": "https://localhost:8080/"
        },
        "id": "M968D87DvmyD",
        "outputId": "c9112eef-03d2-4117-d137-6734f98734b7"
      },
      "execution_count": 7,
      "outputs": [
        {
          "output_type": "stream",
          "name": "stdout",
          "text": [
            "tensor([[ 1.8893,  6.0983, -0.8972,  0.4140],\n",
            "        [ 1.3523, -3.8964,  1.8957,  0.0790],\n",
            "        [ 2.7581,  0.3025,  0.4781, -1.0870],\n",
            "        [ 1.0380,  3.0645, -1.5491, -1.4147]])\n"
          ]
        }
      ]
    },
    {
      "cell_type": "code",
      "source": [
        "torch.matmul(tensor1,tensor2)"
      ],
      "metadata": {
        "colab": {
          "base_uri": "https://localhost:8080/"
        },
        "id": "fvWqPoanv3r6",
        "outputId": "b688ff8b-a666-4098-ddc5-ce5a59a2e44a"
      },
      "execution_count": 8,
      "outputs": [
        {
          "output_type": "execute_result",
          "data": {
            "text/plain": [
              "tensor([[ 1.8893,  6.0983, -0.8972,  0.4140],\n",
              "        [ 1.3523, -3.8964,  1.8957,  0.0790],\n",
              "        [ 2.7581,  0.3025,  0.4781, -1.0870],\n",
              "        [ 1.0380,  3.0645, -1.5491, -1.4147]])"
            ]
          },
          "metadata": {},
          "execution_count": 8
        }
      ]
    },
    {
      "cell_type": "markdown",
      "source": [
        "### Concatination"
      ],
      "metadata": {
        "id": "xRXOF_KQv9Ju"
      }
    },
    {
      "cell_type": "code",
      "source": [
        "t1 = torch.tensor([1,2,3])\n",
        "t2 = torch.tensor([4])\n",
        "torch.cat((t1,t2),dim=0)"
      ],
      "metadata": {
        "colab": {
          "base_uri": "https://localhost:8080/"
        },
        "id": "ysAgDpXvv6sk",
        "outputId": "c1704df2-5679-471b-8c2c-9332bef71efc"
      },
      "execution_count": 9,
      "outputs": [
        {
          "output_type": "execute_result",
          "data": {
            "text/plain": [
              "tensor([1, 2, 3, 4])"
            ]
          },
          "metadata": {},
          "execution_count": 9
        }
      ]
    },
    {
      "cell_type": "code",
      "source": [
        "tensor1"
      ],
      "metadata": {
        "colab": {
          "base_uri": "https://localhost:8080/"
        },
        "id": "H85TpyQtwSsQ",
        "outputId": "19e1eedf-4350-4de6-b189-6c90ec3788af"
      },
      "execution_count": 12,
      "outputs": [
        {
          "output_type": "execute_result",
          "data": {
            "text/plain": [
              "tensor([[-0.3210,  0.1555, -1.9451, -0.5879,  1.4301],\n",
              "        [ 0.9635, -0.1619,  1.2123,  1.4513,  0.5078],\n",
              "        [-0.4957,  1.6155,  0.7247, -0.4581, -0.4611],\n",
              "        [ 0.0725,  0.6554, -1.5434,  0.3611,  0.2142]])"
            ]
          },
          "metadata": {},
          "execution_count": 12
        }
      ]
    },
    {
      "cell_type": "code",
      "source": [
        "torch.cat((tensor1,tensor1),dim=0)"
      ],
      "metadata": {
        "colab": {
          "base_uri": "https://localhost:8080/"
        },
        "id": "s8jsAY_UwChy",
        "outputId": "c545da35-17ee-4e8a-b56c-10e9f0d3941d"
      },
      "execution_count": 10,
      "outputs": [
        {
          "output_type": "execute_result",
          "data": {
            "text/plain": [
              "tensor([[-0.3210,  0.1555, -1.9451, -0.5879,  1.4301],\n",
              "        [ 0.9635, -0.1619,  1.2123,  1.4513,  0.5078],\n",
              "        [-0.4957,  1.6155,  0.7247, -0.4581, -0.4611],\n",
              "        [ 0.0725,  0.6554, -1.5434,  0.3611,  0.2142],\n",
              "        [-0.3210,  0.1555, -1.9451, -0.5879,  1.4301],\n",
              "        [ 0.9635, -0.1619,  1.2123,  1.4513,  0.5078],\n",
              "        [-0.4957,  1.6155,  0.7247, -0.4581, -0.4611],\n",
              "        [ 0.0725,  0.6554, -1.5434,  0.3611,  0.2142]])"
            ]
          },
          "metadata": {},
          "execution_count": 10
        }
      ]
    },
    {
      "cell_type": "code",
      "source": [
        "torch.cat((tensor1,tensor1),dim=1)"
      ],
      "metadata": {
        "colab": {
          "base_uri": "https://localhost:8080/"
        },
        "id": "mA9b_7izwEb-",
        "outputId": "5e36ca0c-59fa-4ac5-ead0-70380c423846"
      },
      "execution_count": 11,
      "outputs": [
        {
          "output_type": "execute_result",
          "data": {
            "text/plain": [
              "tensor([[-0.3210,  0.1555, -1.9451, -0.5879,  1.4301, -0.3210,  0.1555, -1.9451,\n",
              "         -0.5879,  1.4301],\n",
              "        [ 0.9635, -0.1619,  1.2123,  1.4513,  0.5078,  0.9635, -0.1619,  1.2123,\n",
              "          1.4513,  0.5078],\n",
              "        [-0.4957,  1.6155,  0.7247, -0.4581, -0.4611, -0.4957,  1.6155,  0.7247,\n",
              "         -0.4581, -0.4611],\n",
              "        [ 0.0725,  0.6554, -1.5434,  0.3611,  0.2142,  0.0725,  0.6554, -1.5434,\n",
              "          0.3611,  0.2142]])"
            ]
          },
          "metadata": {},
          "execution_count": 11
        }
      ]
    },
    {
      "cell_type": "code",
      "source": [
        "torch.stack([tensor1,tensor1])"
      ],
      "metadata": {
        "colab": {
          "base_uri": "https://localhost:8080/"
        },
        "id": "7vrEyberwPeO",
        "outputId": "5674e398-f7e4-4dad-c50a-e8e5ddf0679e"
      },
      "execution_count": 13,
      "outputs": [
        {
          "output_type": "execute_result",
          "data": {
            "text/plain": [
              "tensor([[[-0.3210,  0.1555, -1.9451, -0.5879,  1.4301],\n",
              "         [ 0.9635, -0.1619,  1.2123,  1.4513,  0.5078],\n",
              "         [-0.4957,  1.6155,  0.7247, -0.4581, -0.4611],\n",
              "         [ 0.0725,  0.6554, -1.5434,  0.3611,  0.2142]],\n",
              "\n",
              "        [[-0.3210,  0.1555, -1.9451, -0.5879,  1.4301],\n",
              "         [ 0.9635, -0.1619,  1.2123,  1.4513,  0.5078],\n",
              "         [-0.4957,  1.6155,  0.7247, -0.4581, -0.4611],\n",
              "         [ 0.0725,  0.6554, -1.5434,  0.3611,  0.2142]]])"
            ]
          },
          "metadata": {},
          "execution_count": 13
        }
      ]
    },
    {
      "cell_type": "markdown",
      "source": [
        "### nn.Multinomial"
      ],
      "metadata": {
        "id": "OtbIkdUPw5kr"
      }
    },
    {
      "cell_type": "code",
      "source": [
        "# torch.multinomial(input, num_samples, replacement=False, *, generator=None, out=None) → LongTensor\n",
        "\n",
        "# Parameters:\n",
        "    # input (Tensor) – the input tensor containing probabilities\n",
        "\n",
        "    # num_samples (int) – number of samples to draw\n",
        "\n",
        "    # replacement (bool, optional) – whether to draw with replacement or not\n",
        "\n",
        "probabilities = torch.tensor([0.1, 0.4 , 0.5]) # 10% => 0, 40%=> 1 , 50% for 2 ,  each probability points to the index of the probability in the tensor\n",
        "\n",
        "samples = torch.multinomial(probabilities, num_samples=10, replacement=True)\n",
        "print(samples)"
      ],
      "metadata": {
        "colab": {
          "base_uri": "https://localhost:8080/"
        },
        "id": "3WmHjVXcwYgb",
        "outputId": "20ae3076-73e4-45ae-fdaf-43febb07733b"
      },
      "execution_count": 14,
      "outputs": [
        {
          "output_type": "stream",
          "name": "stdout",
          "text": [
            "tensor([1, 1, 2, 2, 2, 2, 2, 0, 1, 1])\n"
          ]
        }
      ]
    },
    {
      "cell_type": "markdown",
      "source": [
        "### Trail Matrix\n",
        "\n",
        "Returns the lower triangular part of the matrix (2-D tensor) or batch of matrices input, the other elements of the result tensor out are set to 0."
      ],
      "metadata": {
        "id": "4UUg-fOBxAkR"
      }
    },
    {
      "cell_type": "code",
      "source": [
        "print(tensor1)"
      ],
      "metadata": {
        "colab": {
          "base_uri": "https://localhost:8080/"
        },
        "id": "VsqmD18Zw-ED",
        "outputId": "4bb7d7b5-30d4-41a8-bb4f-91cfb2cca375"
      },
      "execution_count": 15,
      "outputs": [
        {
          "output_type": "stream",
          "name": "stdout",
          "text": [
            "tensor([[-0.3210,  0.1555, -1.9451, -0.5879,  1.4301],\n",
            "        [ 0.9635, -0.1619,  1.2123,  1.4513,  0.5078],\n",
            "        [-0.4957,  1.6155,  0.7247, -0.4581, -0.4611],\n",
            "        [ 0.0725,  0.6554, -1.5434,  0.3611,  0.2142]])\n"
          ]
        }
      ]
    },
    {
      "cell_type": "code",
      "source": [
        "print(torch.tril(tensor1))"
      ],
      "metadata": {
        "colab": {
          "base_uri": "https://localhost:8080/"
        },
        "id": "X7TdNYHKxC0i",
        "outputId": "94d26432-1a7d-4c29-df78-7f86b1857c62"
      },
      "execution_count": 16,
      "outputs": [
        {
          "output_type": "stream",
          "name": "stdout",
          "text": [
            "tensor([[-0.3210,  0.0000,  0.0000,  0.0000,  0.0000],\n",
            "        [ 0.9635, -0.1619,  0.0000,  0.0000,  0.0000],\n",
            "        [-0.4957,  1.6155,  0.7247,  0.0000,  0.0000],\n",
            "        [ 0.0725,  0.6554, -1.5434,  0.3611,  0.0000]])\n"
          ]
        }
      ]
    },
    {
      "cell_type": "code",
      "source": [
        "tensor1.shape"
      ],
      "metadata": {
        "colab": {
          "base_uri": "https://localhost:8080/"
        },
        "id": "p-eZJSHrxEm6",
        "outputId": "c999a334-4391-48cd-f720-5e02401e012c"
      },
      "execution_count": 17,
      "outputs": [
        {
          "output_type": "execute_result",
          "data": {
            "text/plain": [
              "torch.Size([4, 5])"
            ]
          },
          "metadata": {},
          "execution_count": 17
        }
      ]
    },
    {
      "cell_type": "code",
      "source": [
        "out = tensor1.masked_fill(torch.tril(torch.ones(4, 5)) == 0, float('-inf'))\n",
        "out"
      ],
      "metadata": {
        "colab": {
          "base_uri": "https://localhost:8080/"
        },
        "id": "WJGb7frXxHoe",
        "outputId": "a1749dbd-10f7-422e-d20f-89db522da8ab"
      },
      "execution_count": 18,
      "outputs": [
        {
          "output_type": "execute_result",
          "data": {
            "text/plain": [
              "tensor([[-0.3210,    -inf,    -inf,    -inf,    -inf],\n",
              "        [ 0.9635, -0.1619,    -inf,    -inf,    -inf],\n",
              "        [-0.4957,  1.6155,  0.7247,    -inf,    -inf],\n",
              "        [ 0.0725,  0.6554, -1.5434,  0.3611,    -inf]])"
            ]
          },
          "metadata": {},
          "execution_count": 18
        }
      ]
    },
    {
      "cell_type": "markdown",
      "source": [
        "### Transpose"
      ],
      "metadata": {
        "id": "g1fI-tKwxM2W"
      }
    },
    {
      "cell_type": "code",
      "source": [
        "t3 = torch.rand(2,3,4)\n",
        "t3.shape"
      ],
      "metadata": {
        "colab": {
          "base_uri": "https://localhost:8080/"
        },
        "id": "YBEJFjItxJka",
        "outputId": "9dfbb8e0-59b1-4505-bcde-fca2bb678807"
      },
      "execution_count": 19,
      "outputs": [
        {
          "output_type": "execute_result",
          "data": {
            "text/plain": [
              "torch.Size([2, 3, 4])"
            ]
          },
          "metadata": {},
          "execution_count": 19
        }
      ]
    },
    {
      "cell_type": "code",
      "source": [
        "t3"
      ],
      "metadata": {
        "colab": {
          "base_uri": "https://localhost:8080/"
        },
        "id": "jv9fJ8d1xO-W",
        "outputId": "9d599320-15c9-4e8b-8527-cb933f8497d6"
      },
      "execution_count": 20,
      "outputs": [
        {
          "output_type": "execute_result",
          "data": {
            "text/plain": [
              "tensor([[[0.3344, 0.6053, 0.9161, 0.0449],\n",
              "         [0.2004, 0.2119, 0.1828, 0.1678],\n",
              "         [0.8726, 0.7925, 0.6577, 0.6335]],\n",
              "\n",
              "        [[0.1122, 0.9511, 0.1695, 0.9367],\n",
              "         [0.8109, 0.6925, 0.9848, 0.0338],\n",
              "         [0.4634, 0.6927, 0.9403, 0.4653]]])"
            ]
          },
          "metadata": {},
          "execution_count": 20
        }
      ]
    },
    {
      "cell_type": "code",
      "source": [
        "t3.transpose(0,1).shape"
      ],
      "metadata": {
        "colab": {
          "base_uri": "https://localhost:8080/"
        },
        "id": "306hu2GxxRJ0",
        "outputId": "3be9c467-60d2-4844-e0a8-04bd88a704db"
      },
      "execution_count": 21,
      "outputs": [
        {
          "output_type": "execute_result",
          "data": {
            "text/plain": [
              "torch.Size([3, 2, 4])"
            ]
          },
          "metadata": {},
          "execution_count": 21
        }
      ]
    },
    {
      "cell_type": "markdown",
      "source": [
        "### nn.Embedding"
      ],
      "metadata": {
        "id": "FOEXAxFExWSQ"
      }
    },
    {
      "cell_type": "code",
      "source": [
        "# Initialize an embedding layer\n",
        "vocab_size = 50\n",
        "embedding_dim = 100\n",
        "embedding = nn.Embedding(vocab_size, embedding_dim)\n",
        "\n",
        "# Create some input indices\n",
        "input_indices = torch.LongTensor([1, 0, 5])\n",
        "\n",
        "# Apply the embedding layer\n",
        "embedded_output = embedding(input_indices)\n",
        "\n",
        "print(embedded_output.shape)  # no of tokens * embedding dimension"
      ],
      "metadata": {
        "colab": {
          "base_uri": "https://localhost:8080/"
        },
        "id": "J2MS_6HGxTx5",
        "outputId": "9a75558b-65ef-4d91-8109-6bc34491719a"
      },
      "execution_count": 22,
      "outputs": [
        {
          "output_type": "stream",
          "name": "stdout",
          "text": [
            "torch.Size([3, 100])\n"
          ]
        }
      ]
    },
    {
      "cell_type": "code",
      "source": [
        "print(embedded_output[0].shape)"
      ],
      "metadata": {
        "colab": {
          "base_uri": "https://localhost:8080/"
        },
        "id": "V-jZFM7HxYNs",
        "outputId": "e7bd8edd-2baf-45b8-8f08-afc4711a7613"
      },
      "execution_count": 23,
      "outputs": [
        {
          "output_type": "stream",
          "name": "stdout",
          "text": [
            "torch.Size([100])\n"
          ]
        }
      ]
    },
    {
      "cell_type": "code",
      "source": [],
      "metadata": {
        "id": "yZpkEcmKxa1_"
      },
      "execution_count": null,
      "outputs": []
    }
  ]
}